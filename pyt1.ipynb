{
  "nbformat": 4,
  "nbformat_minor": 0,
  "metadata": {
    "colab": {
      "provenance": [],
      "authorship_tag": "ABX9TyOOSjTE6aJYrzV8f3yqHzMk",
      "include_colab_link": true
    },
    "kernelspec": {
      "name": "python3",
      "display_name": "Python 3"
    },
    "language_info": {
      "name": "python"
    }
  },
  "cells": [
    {
      "cell_type": "markdown",
      "metadata": {
        "id": "view-in-github",
        "colab_type": "text"
      },
      "source": [
        "<a href=\"https://colab.research.google.com/github/nedayghb/sql_easy/blob/main/pyt1.ipynb\" target=\"_parent\"><img src=\"https://colab.research.google.com/assets/colab-badge.svg\" alt=\"Open In Colab\"/></a>"
      ]
    },
    {
      "cell_type": "code",
      "source": [
        "# نصب کتابخانه SQLite\n",
        "!pip install db-sqlite3"
      ],
      "metadata": {
        "colab": {
          "base_uri": "https://localhost:8080/"
        },
        "id": "5n_breTrOjXN",
        "outputId": "72687da2-892a-461b-bedc-58ae750b84bd"
      },
      "execution_count": 1,
      "outputs": [
        {
          "output_type": "stream",
          "name": "stdout",
          "text": [
            "Collecting db-sqlite3\n",
            "  Downloading db-sqlite3-0.0.1.tar.gz (1.4 kB)\n",
            "  Preparing metadata (setup.py) ... \u001b[?25l\u001b[?25hdone\n",
            "Collecting db (from db-sqlite3)\n",
            "  Downloading db-0.1.1.tar.gz (3.4 kB)\n",
            "  Preparing metadata (setup.py) ... \u001b[?25l\u001b[?25hdone\n",
            "Collecting antiorm (from db->db-sqlite3)\n",
            "  Downloading antiorm-1.2.1.tar.gz (171 kB)\n",
            "\u001b[2K     \u001b[90m━━━━━━━━━━━━━━━━━━━━━━━━━━━━━━━━━━━━━━━━\u001b[0m \u001b[32m172.0/172.0 kB\u001b[0m \u001b[31m1.7 MB/s\u001b[0m eta \u001b[36m0:00:00\u001b[0m\n",
            "\u001b[?25h  Preparing metadata (setup.py) ... \u001b[?25l\u001b[?25hdone\n",
            "Building wheels for collected packages: db-sqlite3, db, antiorm\n",
            "  Building wheel for db-sqlite3 (setup.py) ... \u001b[?25l\u001b[?25hdone\n",
            "  Created wheel for db-sqlite3: filename=db_sqlite3-0.0.1-py3-none-any.whl size=1770 sha256=a53aee5ea878ac2a19afd6188cdd6ac15c95bae3d342585d8cb97d958aabd113\n",
            "  Stored in directory: /root/.cache/pip/wheels/a6/b7/83/e941e0a0e04f417982e718ae7295d1e82b5f2863a1c51edd71\n",
            "  Building wheel for db (setup.py) ... \u001b[?25l\u001b[?25hdone\n",
            "  Created wheel for db: filename=db-0.1.1-py3-none-any.whl size=3874 sha256=a5ba5887fdcb4fcae678a0e9cb58b9d4c2f36b48311de9e3ea6a865daa67c3b6\n",
            "  Stored in directory: /root/.cache/pip/wheels/7d/e4/df/bc55b93af204ab098d9effec76f6889ad12d7ad74e833c4910\n",
            "  Building wheel for antiorm (setup.py) ... \u001b[?25l\u001b[?25hdone\n",
            "  Created wheel for antiorm: filename=antiorm-1.2.1-py3-none-any.whl size=31665 sha256=a0d1a1fcdf7b8fded07fb82b5791bd59eed0e78b57371150bfc4f9fdd9081573\n",
            "  Stored in directory: /root/.cache/pip/wheels/30/9f/7e/b7c95b391cfa77a9e722d359e9c669cf6c8d798d748aec5091\n",
            "Successfully built db-sqlite3 db antiorm\n",
            "Installing collected packages: antiorm, db, db-sqlite3\n",
            "Successfully installed antiorm-1.2.1 db-0.1.1 db-sqlite3-0.0.1\n"
          ]
        }
      ]
    },
    {
      "cell_type": "code",
      "execution_count": 2,
      "metadata": {
        "colab": {
          "base_uri": "https://localhost:8080/"
        },
        "id": "kxAE1GQAEuVo",
        "outputId": "5f2e5843-bebc-4254-988b-f0a5057bb611"
      },
      "outputs": [
        {
          "output_type": "stream",
          "name": "stdout",
          "text": [
            "(1, 'John Doe', 25)\n",
            "(2, 'Jane Doe', 22)\n"
          ]
        }
      ],
      "source": [
        "\n",
        "\n",
        "# وارد کردن کتابخانه‌های مورد نیاز\n",
        "import sqlite3\n",
        "\n",
        "# ایجاد یک اتصال به پایگاه داده SQLite\n",
        "conn = sqlite3.connect('sample.db')\n",
        "\n",
        "# ایجاد یک جدول ساده\n",
        "conn.execute('''\n",
        "    CREATE TABLE IF NOT EXISTS students (\n",
        "        id INTEGER PRIMARY KEY,\n",
        "        name TEXT NOT NULL,\n",
        "        age INTEGER NOT NULL\n",
        "    )\n",
        "''')\n",
        "\n",
        "# افزودن داده به جدول\n",
        "conn.execute(\"INSERT INTO students (name, age) VALUES (?, ?)\", ('John Doe', 25))\n",
        "conn.execute(\"INSERT INTO students (name, age) VALUES (?, ?)\", ('Jane Doe', 22))\n",
        "\n",
        "# نمایش اطلاعات\n",
        "cursor = conn.execute(\"SELECT * FROM students\")\n",
        "for row in cursor:\n",
        "    print(row)\n",
        "\n",
        "# بستن اتصال\n",
        "conn.close()\n"
      ]
    },
    {
      "cell_type": "code",
      "source": [
        "# اتصال به پایگاه داده\n",
        "conn = sqlite3.connect('sample.db')\n",
        "\n",
        "# ایجاد یک کرسور (cursor) برای اجرای دستورات SQL\n",
        "cursor = conn.cursor()\n",
        "\n",
        "# نمایش تمامی ردیف‌ها در جدول\n",
        "cursor.execute(\"SELECT * FROM students\")\n",
        "rows = cursor.fetchall()\n",
        "for row in rows:\n",
        "    print(row)\n",
        "\n",
        "# اضافه کردن یک رکورد جدید\n",
        "new_student = ('Bob', 23)\n",
        "cursor.execute(\"INSERT INTO students (name, age) VALUES (?, ?)\", new_student)\n",
        "conn.commit()\n",
        "\n",
        "# نمایش تمامی ردیف‌ها پس از اضافه کردن رکورد جدید\n",
        "cursor.execute(\"SELECT * FROM students\")\n",
        "rows = cursor.fetchall()\n",
        "for row in rows:\n",
        "    print(row)\n",
        "\n",
        "# به‌روزرسانی یک رکورد\n",
        "update_data = ('John Smith', 26, 1)  # نام جدید، سن جدید، شناسه رکورد مورد نظر\n",
        "cursor.execute(\"UPDATE students SET name=?, age=? WHERE id=?\", update_data)\n",
        "conn.commit()\n",
        "\n",
        "# نمایش تمامی ردیف‌ها پس از به‌روزرسانی\n",
        "cursor.execute(\"SELECT * FROM students\")\n",
        "rows = cursor.fetchall()\n",
        "for row in rows:\n",
        "    print(row)\n",
        "\n",
        "# حذف یک رکورد\n",
        "record_to_delete = (2,)  # شناسه رکورد مورد نظر\n",
        "cursor.execute(\"DELETE FROM students WHERE id=?\", record_to_delete)\n",
        "conn.commit()\n",
        "\n",
        "# نمایش تمامی ردیف‌ها پس از حذف\n",
        "cursor.execute(\"SELECT * FROM students\")\n",
        "rows = cursor.fetchall()\n",
        "for row in rows:\n",
        "    print(row)\n",
        "\n",
        "# بستن اتصال\n",
        "conn.close()\n"
      ],
      "metadata": {
        "colab": {
          "base_uri": "https://localhost:8080/"
        },
        "id": "tU3KgsUuPXse",
        "outputId": "f0b95e1b-3c39-407e-8586-a18889b7268c"
      },
      "execution_count": 3,
      "outputs": [
        {
          "output_type": "stream",
          "name": "stdout",
          "text": [
            "(1, 'Bob', 23)\n",
            "(1, 'John Smith', 26)\n",
            "(1, 'John Smith', 26)\n"
          ]
        }
      ]
    }
  ]
}